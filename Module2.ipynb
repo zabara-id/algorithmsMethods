{
 "cells": [
  {
   "cell_type": "markdown",
   "id": "7d2bf358-9be4-4916-af95-d6b7461c547d",
   "metadata": {},
   "source": [
    "# Модудь 2. Введение: теория и задачи"
   ]
  },
  {
   "cell_type": "code",
   "execution_count": null,
   "id": "f1dbcd24-3be9-4907-9189-78bc040419d0",
   "metadata": {},
   "outputs": [],
   "source": []
  }
 ],
 "metadata": {
  "kernelspec": {
   "display_name": "Python 3 (ipykernel)",
   "language": "python",
   "name": "python3"
  },
  "language_info": {
   "codemirror_mode": {
    "name": "ipython",
    "version": 3
   },
   "file_extension": ".py",
   "mimetype": "text/x-python",
   "name": "python",
   "nbconvert_exporter": "python",
   "pygments_lexer": "ipython3",
   "version": "3.10.6"
  }
 },
 "nbformat": 4,
 "nbformat_minor": 5
}
